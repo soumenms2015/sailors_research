{
 "cells": [
  {
   "cell_type": "code",
   "execution_count": null,
   "metadata": {
    "collapsed": false
   },
   "outputs": [],
   "source": [
    "import os\n",
    "import sys\n",
    "import glob\n",
    "import numpy as np\n",
    "from skimage import io\n",
    "import matplotlib.pyplot as plt\n",
    "\n",
    "try:\n",
    "    del sys.modules['threshold_model']\n",
    "except:\n",
    "    pass\n",
    "try:\n",
    "    del sys.modules['eval_utils']\n",
    "except:\n",
    "    pass\n",
    "\n",
    "from threshold_model import ThresholdModel\n",
    "import eval_utils\n",
    "\n",
    "# set figure properties\n",
    "%matplotlib inline\n",
    "plt.rcParams['figure.figsize'] = (10, 10)\n",
    "plt.rcParams['image.interpolation'] = 'nearest'\n",
    "\n",
    "data_dir = '../../data/train/frames/rgb'"
   ]
  },
  {
   "cell_type": "code",
   "execution_count": null,
   "metadata": {
    "collapsed": false,
    "scrolled": false
   },
   "outputs": [],
   "source": [
    "# try plotting an image\n",
    "filename = '%s/rgb-146.jpg' %(data_dir)\n",
    "image = io.imread(filename)\n",
    "height, width, channels = image.shape\n",
    "print 'image has height %d, width %d, channels %d' %(height, width, channels)\n",
    "plt.imshow(image)"
   ]
  },
  {
   "cell_type": "code",
   "execution_count": null,
   "metadata": {
    "collapsed": false
   },
   "outputs": [],
   "source": [
    "# try cropping an image\n",
    "cropx_start = 0\n",
    "cropx_end = 10\n",
    "cropy_start = 0\n",
    "cropy_end = 10\n",
    "\n",
    "image_cropped = image[cropx_start:cropx_end, cropy_start:cropy_end, :]\n",
    "plt.imshow(image_cropped)"
   ]
  },
  {
   "cell_type": "code",
   "execution_count": null,
   "metadata": {
    "collapsed": false
   },
   "outputs": [],
   "source": [
    "# create a model\n",
    "model = ThresholdModel()\n",
    "model.set_ref_mat(image_cropped)\n",
    "model.set_threshold(1)"
   ]
  },
  {
   "cell_type": "code",
   "execution_count": null,
   "metadata": {
    "collapsed": false
   },
   "outputs": [],
   "source": [
    "# predict a single image\n",
    "image_file = '%s/rgb-146.jpg' %(data_dir)\n",
    "image_prediction = model.predict(image_file)\n",
    "print 'prediction: %d' %(image_prediction)"
   ]
  },
  {
   "cell_type": "code",
   "execution_count": null,
   "metadata": {
    "collapsed": false,
    "scrolled": true
   },
   "outputs": [],
   "source": [
    "# evaluate accuracy on a list of files\n",
    "filelist = glob.glob('../../data/train/frames/rgb/*.jpg')\n",
    "num_files = len(filelist)\n",
    "dummy_labels = num_files * [0]\n",
    "\n",
    "predictions, accuracy = eval_utils.evaluate_accuracy(filelist, dummy_labels, model)\n",
    "print 'accuracy: %.3f' %(accuracy)"
   ]
  }
 ],
 "metadata": {
  "kernelspec": {
   "display_name": "Python 2",
   "language": "python",
   "name": "python2"
  },
  "language_info": {
   "codemirror_mode": {
    "name": "ipython",
    "version": 2
   },
   "file_extension": ".py",
   "mimetype": "text/x-python",
   "name": "python",
   "nbconvert_exporter": "python",
   "pygments_lexer": "ipython2",
   "version": "2.7.6"
  }
 },
 "nbformat": 4,
 "nbformat_minor": 0
}
